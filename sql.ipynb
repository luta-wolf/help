{
 "cells": [
  {
   "cell_type": "markdown",
   "metadata": {},
   "source": [
    "# SQL help\n",
    "---"
   ]
  },
  {
   "cell_type": "markdown",
   "metadata": {},
   "source": [
    "оператор | значение \n",
    "---------|---------\n",
    "SELECT |'столбцы или * для выбора всех столбцов; обязательно'\n",
    "FROM |'таблица; обязательно'\n",
    "WHERE |'условие/фильтрация, например, city = 'Moscow'; необязательно'\n",
    "GROUP BY |'столбец, по которому хотим сгруппировать данные; необязательно'\n",
    "HAVING |'условие/фильтрация на уровне сгруппированных данных; необязательно'\n",
    "ORDER BY |'столбец, по которому хотим отсортировать вывод; необязательно'"
   ]
  },
  {
   "cell_type": "markdown",
   "metadata": {},
   "source": [
    "Руководство по стилю \n",
    "---\n",
    "\n",
    "https://www.sqlstyle.guide/ru/\n",
    "\n",
    "Форматирование запросов\n",
    "---\n",
    "\n",
    "https://codebeautify.org/sqlformatter"
   ]
  },
  {
   "cell_type": "markdown",
   "metadata": {},
   "source": [
    "\n",
    "# Функции\n",
    "\n",
    "Функция    |Описание|Пример\n",
    "----------|--------|------\n",
    "CEILING(x)|\tвозвращает наименьшее целое число, большее или равное x(округляет до целого числа в большую сторону)\t|CEILING(4.2)=5 CEILING(-5.8)=-5\n",
    "ROUND(x, k)|\tокругляет значение x до k знаков после запятой, если k не указано – x округляется до целого\t| ROUND(4.361)=4 ROUND(5.86592,1)=5.9\n",
    "FLOOR(x)|\tвозвращает наибольшее целое число, меньшее или равное x (округляет до  целого числа в меньшую сторону)|\tFLOOR(4.2)=4 FLOOR(-5.8)=-6\n",
    "POWER(x, y)|\tвозведение x в степень y\t|POWER(3,4)=81.0\n",
    "SQRT(x)|\tквадратный корень из x|\tSQRT(4)=2.0 SQRT(2)=1.41...\n",
    "DEGREES(x)\t|конвертирует значение x из радиан в градусы\t|DEGREES(3) = 171.8...\n",
    "RADIANS(x)\t|конвертирует значение x из градусов в радианы\t|RADIANS(180)=3.14...\n",
    "ABS(x)\t|модуль числа x\t|ABS(-1) = 1 ABS(1) = 1\n",
    "PI()\t|pi = 3.1415926...\t |\n",
    "\n",
    "\n",
    "[Описание всех функций](https://docs.microsoft.com/ru-ru/sql/t-sql/functions/mathematical-functions-transact-sql?view=sql-server-ver15)"
   ]
  },
  {
   "cell_type": "code",
   "execution_count": null,
   "metadata": {},
   "outputs": [],
   "source": []
  }
 ],
 "metadata": {
  "interpreter": {
   "hash": "65d7abfdb6b8e36b46552acf763b5fd32417fbc266aa8de01c36d0a0a5eac88a"
  },
  "kernelspec": {
   "display_name": "Python 3.10.2 ('venv': venv)",
   "language": "python",
   "name": "python3"
  },
  "language_info": {
   "name": "python",
   "version": "3.10.2"
  },
  "orig_nbformat": 4
 },
 "nbformat": 4,
 "nbformat_minor": 2
}
