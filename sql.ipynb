{
 "cells": [
  {
   "cell_type": "markdown",
   "metadata": {},
   "source": [
    "# SQL help\n",
    "---"
   ]
  },
  {
   "cell_type": "markdown",
   "metadata": {},
   "source": [
    "оператор | значение \n",
    "---------|---------\n",
    "SELECT |'столбцы или * для выбора всех столбцов; обязательно'\n",
    "FROM |'таблица; обязательно'\n",
    "WHERE |'условие/фильтрация, например, city = 'Moscow'; необязательно'\n",
    "GROUP BY |'столбец, по которому хотим сгруппировать данные; необязательно'\n",
    "HAVING |'условие/фильтрация на уровне сгруппированных данных; необязательно'\n",
    "ORDER BY |'столбец, по которому хотим отсортировать вывод; необязательно'"
   ]
  },
  {
   "cell_type": "markdown",
   "metadata": {},
   "source": [
    "Руководство по стилю \n",
    "---\n",
    "\n",
    "https://www.sqlstyle.guide/ru/\n",
    "\n",
    "Форматирование запросов\n",
    "---\n",
    "\n",
    "https://codebeautify.org/sqlformatter"
   ]
  },
  {
   "cell_type": "markdown",
   "metadata": {},
   "source": [
    "\n",
    "# Функции\n",
    "\n",
    "Функция    |Описание|Пример\n",
    "----------|--------|------\n",
    "CEILING(x)|\tвозвращает наименьшее целое число, большее или равное x(округляет до целого числа в большую сторону)\t|CEILING(4.2)=5 CEILING(-5.8)=-5\n",
    "ROUND(x, k)|\tокругляет значение x до k знаков после запятой, если k не указано – x округляется до целого\t| ROUND(4.361)=4 ROUND(5.86592,1)=5.9\n",
    "FLOOR(x)|\tвозвращает наибольшее целое число, меньшее или равное x (округляет до  целого числа в меньшую сторону)|\tFLOOR(4.2)=4 FLOOR(-5.8)=-6\n",
    "POWER(x, y)|\tвозведение x в степень y\t|POWER(3,4)=81.0\n",
    "SQRT(x)|\tквадратный корень из x|\tSQRT(4)=2.0 SQRT(2)=1.41...\n",
    "DEGREES(x)\t|конвертирует значение x из радиан в градусы\t|DEGREES(3) = 171.8...\n",
    "RADIANS(x)\t|конвертирует значение x из градусов в радианы\t|RADIANS(180)=3.14...\n",
    "ABS(x)\t|модуль числа x\t|ABS(-1) = 1 ABS(1) = 1\n",
    "PI()\t|pi = 3.1415926...\t |\n",
    "\n",
    "\n",
    "[Описание всех функций](https://docs.microsoft.com/ru-ru/sql/t-sql/functions/mathematical-functions-transact-sql?view=sql-server-ver15)"
   ]
  },
  {
   "cell_type": "markdown",
   "metadata": {},
   "source": [
    "###SQL - Оператор LIKE\n",
    "Оператор LIKE используется в предложении WHERE для поиска заданного шаблона в столбце.\n",
    "\n",
    "В сочетании с оператором LIKE используются два подстановочных знака:\n",
    "\n",
    "- % Знак процента представляет нулевой, один или несколько символов\n",
    "- _ Подчеркнутый символ представляет собой один символ\n",
    "\n",
    "```SQL\n",
    "SELECT column1, column2,  \n",
    "  FROM table_name  \n",
    " WHERE columnN LIKE pattern; \n",
    "```\n",
    "\n",
    "Выражение |\tОписание\n",
    "-|-\n",
    "WHERE name LIKE 'text%'\t|Находит любые значения, начинающиеся с \"text\"\n",
    "WHERE name LIKE '%text'\t|Находит любые значения, заканчивающиеся на \"text\"\n",
    "WHERE name LIKE '%text%'\t|Находит любые значения, которые имеют «text» в любой позиции\n",
    "WHERE name LIKE '_text%'\t|Находит любые значения, которые имеют «text» во второй позиции\n",
    "WHERE name LIKE 'text_%_%'\t|Находит любые значения, начинающиеся с «text» и длиной не менее 3 символов\n",
    "WHERE name LIKE 'text%data'\t|Находит любые значения, начинающиеся с «text» и заканчивающиеся на «data»"
   ]
  },
  {
   "cell_type": "markdown",
   "metadata": {},
   "source": [
    "## Оператор LIMIT  \n",
    "\n",
    "Для ограничения вывода записей в SQL используется оператор LIMIT , после которого указывается количество строк. \n",
    "Результирующая таблица будет иметь количество строк не более указанного после LIMIT. LIMIT размещается после раздела ORDER BY."
   ]
  },
  {
   "cell_type": "markdown",
   "metadata": {},
   "source": [
    "# [Глосарий SQL на Stepik !!!](https://stepik.org/lesson/583183/step/1?unit=577913)\n",
    "\n"
   ]
  },
  {
   "cell_type": "markdown",
   "metadata": {},
   "source": [
    "---"
   ]
  },
  {
   "cell_type": "markdown",
   "metadata": {},
   "source": [
    "# Создание таблицы с внешними ключами\n",
    "При создании зависимой таблицы (таблицы, которая содержит внешние ключи) необходимо учитывать, что :\n",
    "\n",
    "- каждый внешний ключ должен иметь такой же тип данных, как связанное поле главной таблицы (в наших примерах это INT);\n",
    "- необходимо указать главную для нее таблицу и столбец, по которому осуществляется связь:\n",
    "\n",
    "    FOREIGN KEY (связанное_поле_зависимой_таблицы)  \n",
    "    REFERENCES главная_таблица (связанное_поле_главной_таблицы)"
   ]
  },
  {
   "cell_type": "markdown",
   "metadata": {},
   "source": []
  },
  {
   "cell_type": "markdown",
   "metadata": {},
   "source": [
    "\n",
    "# Соединение INNER JOIN  \n",
    "\n",
    "Оператор внутреннего соединения INNER JOIN соединяет две таблицы. Порядок таблиц для оператора неважен, поскольку оператор является симметричным.\n",
    "\n",
    "    SELECT\n",
    "    ...\n",
    "    FROM\n",
    "        таблица_1 INNER JOIN  таблица_2\n",
    "        ON условие\n",
    "    ...\n",
    "\n",
    "Результат запроса формируется так:\n",
    "\n",
    "каждая строка одной таблицы сопоставляется с каждой строкой второй таблицы;\n",
    "для полученной «соединённой» строки проверяется условие соединения;\n",
    "если условие истинно, в таблицу результата добавляется соответствующая «соединённая» строка;\n",
    "Пример\n",
    "\n",
    "Вывести название книг и их авторов.\n",
    "\n",
    "Запрос:\n",
    "\n",
    "```sql\n",
    "SELECT title, name_author\n",
    "FROM \n",
    "    author INNER JOIN book\n",
    "    ON author.author_id = book.author_id;\n",
    "```"
   ]
  },
  {
   "cell_type": "markdown",
   "metadata": {},
   "source": [
    "count(DISTINCT name_genre) <<<--- ( ! ) показывает количество унекальныйх значений\n",
    "\n",
    "\n",
    "Премер \n",
    "```SQL\n",
    "  SELECT name_author\n",
    "    FROM book b LEFT JOIN genre g\n",
    "      ON b.genre_id = g.genre_id\n",
    "                LEFT JOIN author a\n",
    "      ON b.author_id = a.author_id\n",
    "GROUP BY name_author\n",
    "  HAVING count(DISTINCT name_genre) = 1 -- <-- ( ! )\n",
    "ORDER BY name_author\n",
    "```\n",
    "\n"
   ]
  },
  {
   "cell_type": "markdown",
   "metadata": {},
   "source": []
  },
  {
   "cell_type": "markdown",
   "metadata": {},
   "source": []
  },
  {
   "cell_type": "markdown",
   "metadata": {},
   "source": []
  },
  {
   "cell_type": "markdown",
   "metadata": {},
   "source": []
  }
 ],
 "metadata": {
  "interpreter": {
   "hash": "65d7abfdb6b8e36b46552acf763b5fd32417fbc266aa8de01c36d0a0a5eac88a"
  },
  "kernelspec": {
   "display_name": "Python 3.10.2 ('venv': venv)",
   "language": "python",
   "name": "python3"
  },
  "language_info": {
   "name": "python",
   "version": "3.10.2"
  },
  "orig_nbformat": 4
 },
 "nbformat": 4,
 "nbformat_minor": 2
}
