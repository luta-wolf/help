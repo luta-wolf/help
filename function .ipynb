{
 "cells": [
  {
   "cell_type": "code",
   "execution_count": null,
   "id": "9a838455",
   "metadata": {},
   "outputs": [],
   "source": [
    "def moustache(s):\n",
    "    # Возращает значения усов нормального распределения\n",
    "    q75,q25 = np.percentile(s,[75,25])\n",
    "    iqr = q75 - q25\n",
    "    return q25 - 1.5*iqr, q75 + 1.5*iqr\n",
    "\n",
    "def data_cleanup_table(df):\n",
    "    # Возвращает таблицу для EDA с анализом признаков\n",
    "    \n",
    "    # Создание таблицы\n",
    "    columns = ['Признак', 'Тип_данных', 'Пропущенных_значений', \n",
    "           'Выбросов', 'Ошибочных_значений', 'Управление', 'Комментарий']\n",
    "    table = pd.DataFrame(columns=columns)\n",
    "    table['Признак'] = df.columns\n",
    "    df_len = len(df)\n",
    "    print('Создание таблицы...')\n",
    "    #\n",
    "    for sign in df.columns:\n",
    "        table.loc[table['Признак'] == sign, 'Тип_данных'] = df[sign].dtype\n",
    "    \n",
    "    \n",
    "    # Анализ пропущенных значений\n",
    "    for sign in tqdm(df.columns, desc='Анализ пропущенных значений\\t'):\n",
    "        table.loc[table['Признак'] == sign, 'Пропущенных_значений'] = df[sign].isna().sum()\n",
    "        if df[sign].isna().sum() / df_len > 0.2:\n",
    "            table.loc[table['Признак'] == sign, 'Управление'] = 'Удалить'\n",
    "            table.loc[table['Признак'] == sign, 'Комментарий'] = 'Пропусков больше 20% '\n",
    "            \n",
    "    \n",
    "    # Анализ выбрасов\n",
    "    for sign in tqdm(df.columns, desc='Анализ выбросов\\t\\t\\t'):\n",
    "        if df[sign].dtype == 'object':\n",
    "            table.loc[table['Признак'] == sign, 'Выбросов'] = -1\n",
    "        else:\n",
    "            tmp = moustache(df[sign]) # возращает границы усов (а, б)\n",
    "            table.loc[table['Признак'] == sign, 'Выбросов'] = df[(df[sign] < tmp[0]) |\n",
    "                                                                            (df[sign] > tmp[1])][sign].count()      \n",
    "    \n",
    "    return table"
   ]
  },
  {
   "cell_type": "code",
   "execution_count": 41,
   "id": "c0e6dc6c",
   "metadata": {
    "scrolled": true
   },
   "outputs": [
    {
     "name": "stdout",
     "output_type": "stream",
     "text": [
      "Создание таблицы...\n"
     ]
    },
    {
     "name": "stderr",
     "output_type": "stream",
     "text": [
      "Анализ пропущенных значений\t: 100%|██████████| 291/291 [00:00<00:00, 677.65it/s]\n",
      "Анализ выбросов\t\t\t: 100%|██████████| 291/291 [00:02<00:00, 106.60it/s]\n"
     ]
    },
    {
     "data": {
      "text/html": [
       "<div>\n",
       "<style scoped>\n",
       "    .dataframe tbody tr th:only-of-type {\n",
       "        vertical-align: middle;\n",
       "    }\n",
       "\n",
       "    .dataframe tbody tr th {\n",
       "        vertical-align: top;\n",
       "    }\n",
       "\n",
       "    .dataframe thead th {\n",
       "        text-align: right;\n",
       "    }\n",
       "</style>\n",
       "<table border=\"1\" class=\"dataframe\">\n",
       "  <thead>\n",
       "    <tr style=\"text-align: right;\">\n",
       "      <th></th>\n",
       "      <th>Признак</th>\n",
       "      <th>Тип_данных</th>\n",
       "      <th>Пропущенных_значений</th>\n",
       "      <th>Выбросов</th>\n",
       "      <th>Ошибочных_значений</th>\n",
       "      <th>Управление</th>\n",
       "      <th>Комментарий</th>\n",
       "    </tr>\n",
       "  </thead>\n",
       "  <tbody>\n",
       "    <tr>\n",
       "      <th>0</th>\n",
       "      <td>id</td>\n",
       "      <td>int64</td>\n",
       "      <td>0</td>\n",
       "      <td>0</td>\n",
       "      <td>NaN</td>\n",
       "      <td>NaN</td>\n",
       "      <td>NaN</td>\n",
       "    </tr>\n",
       "    <tr>\n",
       "      <th>1</th>\n",
       "      <td>timestamp</td>\n",
       "      <td>object</td>\n",
       "      <td>0</td>\n",
       "      <td>-1</td>\n",
       "      <td>NaN</td>\n",
       "      <td>NaN</td>\n",
       "      <td>NaN</td>\n",
       "    </tr>\n",
       "    <tr>\n",
       "      <th>2</th>\n",
       "      <td>full_sq</td>\n",
       "      <td>int64</td>\n",
       "      <td>0</td>\n",
       "      <td>963</td>\n",
       "      <td>NaN</td>\n",
       "      <td>NaN</td>\n",
       "      <td>NaN</td>\n",
       "    </tr>\n",
       "    <tr>\n",
       "      <th>3</th>\n",
       "      <td>life_sq</td>\n",
       "      <td>float64</td>\n",
       "      <td>6383</td>\n",
       "      <td>0</td>\n",
       "      <td>NaN</td>\n",
       "      <td>Удалить</td>\n",
       "      <td>Пропусков больше 20%</td>\n",
       "    </tr>\n",
       "    <tr>\n",
       "      <th>4</th>\n",
       "      <td>floor</td>\n",
       "      <td>float64</td>\n",
       "      <td>167</td>\n",
       "      <td>0</td>\n",
       "      <td>NaN</td>\n",
       "      <td>NaN</td>\n",
       "      <td>NaN</td>\n",
       "    </tr>\n",
       "  </tbody>\n",
       "</table>\n",
       "</div>"
      ],
      "text/plain": [
       "     Признак Тип_данных Пропущенных_значений Выбросов Ошибочных_значений  \\\n",
       "0         id      int64                    0        0                NaN   \n",
       "1  timestamp     object                    0       -1                NaN   \n",
       "2    full_sq      int64                    0      963                NaN   \n",
       "3    life_sq    float64                 6383        0                NaN   \n",
       "4      floor    float64                  167        0                NaN   \n",
       "\n",
       "  Управление            Комментарий  \n",
       "0        NaN                    NaN  \n",
       "1        NaN                    NaN  \n",
       "2        NaN                    NaN  \n",
       "3    Удалить  Пропусков больше 20%   \n",
       "4        NaN                    NaN  "
      ]
     },
     "execution_count": 41,
     "metadata": {},
     "output_type": "execute_result"
    }
   ],
   "source": [
    "# ПРИМЕР:    НЕ ЗАПУСКАТЬ!\n",
    "table = data_cleanup_table(df_train)\n",
    "table.head()"
   ]
  },
  {
   "cell_type": "markdown",
   "id": "b3f37e59",
   "metadata": {},
   "source": [
    "---\n",
    "---"
   ]
  },
  {
   "cell_type": "code",
   "execution_count": null,
   "id": "b33f092f",
   "metadata": {},
   "outputs": [],
   "source": []
  }
 ],
 "metadata": {
  "kernelspec": {
   "display_name": "Python 3 (ipykernel)",
   "language": "python",
   "name": "python3"
  },
  "language_info": {
   "codemirror_mode": {
    "name": "ipython",
    "version": 3
   },
   "file_extension": ".py",
   "mimetype": "text/x-python",
   "name": "python",
   "nbconvert_exporter": "python",
   "pygments_lexer": "ipython3",
   "version": "3.9.7"
  }
 },
 "nbformat": 4,
 "nbformat_minor": 5
}
